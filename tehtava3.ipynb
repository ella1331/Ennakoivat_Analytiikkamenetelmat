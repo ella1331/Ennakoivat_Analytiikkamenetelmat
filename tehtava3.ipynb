{
 "cells": [
  {
   "cell_type": "code",
   "execution_count": null,
   "metadata": {},
   "outputs": [],
   "source": [
    "# Kirjastot\n",
    "\n",
    "import pandas as pd\n",
    "from sklearn.feature_extraction.text import TfidfVectorizer\n",
    "from sklearn.cluster import KMeans\n",
    "import matplotlib.pyplot as plt"
   ]
  },
  {
   "cell_type": "code",
   "execution_count": null,
   "metadata": {},
   "outputs": [],
   "source": [
    "# Datan lataaminen ja tarkastaminen\n",
    "df = pd.read_csv('muokattu_twitter_dataset.csv')\n",
    "\n",
    "df.head()"
   ]
  },
  {
   "cell_type": "code",
   "execution_count": null,
   "metadata": {},
   "outputs": [],
   "source": [
    "# Valitaan tekstidata (Comments-sarake)\n",
    "comments = df['Comment']\n",
    "\n",
    "# Muunnetaan tekstidata numeeriseksi TF-IDF-vektorisoinnilla\n",
    "vectorizer = TfidfVectorizer(stop_words='english', max_features=500)\n",
    "X = vectorizer.fit_transform(comments)"
   ]
  },
  {
   "cell_type": "code",
   "execution_count": null,
   "metadata": {},
   "outputs": [],
   "source": [
    "# Määritetään klusterien määrä (esimerkiksi 3: positiivinen, neutraali, negatiivinen)\n",
    "k = 3\n",
    "\n",
    "# K-means-algoritmin soveltaminen\n",
    "kmeans = KMeans(n_clusters=k, random_state=42)\n",
    "kmeans.fit(X)\n",
    "\n",
    "# Lisätään klusteritieto dataan\n",
    "df['Cluster'] = kmeans.labels_\n",
    "\n",
    "# Näytetään muutamia rivejä klusteritiedolla\n",
    "df[['Comment', 'Cluster']].head()\n",
    "\n"
   ]
  },
  {
   "cell_type": "code",
   "execution_count": null,
   "metadata": {},
   "outputs": [],
   "source": [
    "# Tarkastellaan, kuinka monta viestiä kuuluu kuhunkin klusteriin\n",
    "print(df.groupby('Cluster').size())\n",
    "\n",
    "# Katsotaan esimerkkiviestejä jokaisesta klusterista\n",
    "for cluster in range(k):\n",
    "    print(f\"\\nCluster {cluster}:\")\n",
    "    print(df[df['Cluster'] == cluster]['Comment'].head(5).tolist())\n"
   ]
  },
  {
   "cell_type": "code",
   "execution_count": null,
   "metadata": {},
   "outputs": [],
   "source": [
    "# Klustereiden tulkinta esimerkkiviestien perusteella\n",
    "cluster_names = {\n",
    "    0: \"Negatiivinen\",\n",
    "    1: \"Neutraali\",\n",
    "    2: \"Positiivinen\"\n",
    "}\n",
    "\n",
    "# Lisätään klusterin nimi dataan\n",
    "df['Cluster_Label'] = df['Cluster'].map(cluster_names)\n",
    "\n",
    "# Näytetään data klusterinimen kanssa\n",
    "df[['Comment', 'Cluster', 'Cluster_Label']].head()\n"
   ]
  },
  {
   "cell_type": "code",
   "execution_count": null,
   "metadata": {},
   "outputs": [],
   "source": [
    "# Visualisoidaan klusterien jakauma\n",
    "cluster_counts = df['Cluster_Label'].value_counts()\n",
    "\n",
    "plt.figure(figsize=(8, 5))\n",
    "cluster_counts.plot(kind='bar', color=['red', 'gray', 'green'])\n",
    "plt.title(\"Viestejä klustereittain\")\n",
    "plt.xlabel(\"Klusteri\")\n",
    "plt.ylabel(\"Viestimäärä\")\n",
    "plt.xticks(rotation=0)\n",
    "plt.show()\n"
   ]
  },
  {
   "cell_type": "markdown",
   "metadata": {},
   "source": [
    "2 käyttötapaus Viestien tulkinta"
   ]
  },
  {
   "cell_type": "code",
   "execution_count": 40,
   "metadata": {},
   "outputs": [
    {
     "data": {
      "text/html": [
       "<div>\n",
       "<style scoped>\n",
       "    .dataframe tbody tr th:only-of-type {\n",
       "        vertical-align: middle;\n",
       "    }\n",
       "\n",
       "    .dataframe tbody tr th {\n",
       "        vertical-align: top;\n",
       "    }\n",
       "\n",
       "    .dataframe thead th {\n",
       "        text-align: right;\n",
       "    }\n",
       "</style>\n",
       "<table border=\"1\" class=\"dataframe\">\n",
       "  <thead>\n",
       "    <tr style=\"text-align: right;\">\n",
       "      <th></th>\n",
       "      <th>Comment</th>\n",
       "      <th>Length</th>\n",
       "      <th>Word_Count</th>\n",
       "      <th>Avg_Word_Length</th>\n",
       "      <th>Exclamation_Count</th>\n",
       "      <th>Dot_Count</th>\n",
       "    </tr>\n",
       "  </thead>\n",
       "  <tbody>\n",
       "    <tr>\n",
       "      <th>0</th>\n",
       "      <td>is upset that he can't update his Facebook by ...</td>\n",
       "      <td>111</td>\n",
       "      <td>21</td>\n",
       "      <td>5.285714</td>\n",
       "      <td>1</td>\n",
       "      <td>4</td>\n",
       "    </tr>\n",
       "    <tr>\n",
       "      <th>1</th>\n",
       "      <td>@Kenichan I dived many times for the ball. Man...</td>\n",
       "      <td>89</td>\n",
       "      <td>18</td>\n",
       "      <td>4.944444</td>\n",
       "      <td>0</td>\n",
       "      <td>1</td>\n",
       "    </tr>\n",
       "    <tr>\n",
       "      <th>2</th>\n",
       "      <td>my whole body feels itchy and like its on fire</td>\n",
       "      <td>47</td>\n",
       "      <td>10</td>\n",
       "      <td>4.700000</td>\n",
       "      <td>0</td>\n",
       "      <td>0</td>\n",
       "    </tr>\n",
       "    <tr>\n",
       "      <th>3</th>\n",
       "      <td>@nationwideclass no, it's not behaving at all....</td>\n",
       "      <td>111</td>\n",
       "      <td>21</td>\n",
       "      <td>5.285714</td>\n",
       "      <td>0</td>\n",
       "      <td>3</td>\n",
       "    </tr>\n",
       "    <tr>\n",
       "      <th>4</th>\n",
       "      <td>@Kwesidei not the whole crew</td>\n",
       "      <td>29</td>\n",
       "      <td>5</td>\n",
       "      <td>5.800000</td>\n",
       "      <td>0</td>\n",
       "      <td>0</td>\n",
       "    </tr>\n",
       "  </tbody>\n",
       "</table>\n",
       "</div>"
      ],
      "text/plain": [
       "                                             Comment  Length  Word_Count  \\\n",
       "0  is upset that he can't update his Facebook by ...     111          21   \n",
       "1  @Kenichan I dived many times for the ball. Man...      89          18   \n",
       "2    my whole body feels itchy and like its on fire       47          10   \n",
       "3  @nationwideclass no, it's not behaving at all....     111          21   \n",
       "4                      @Kwesidei not the whole crew       29           5   \n",
       "\n",
       "   Avg_Word_Length  Exclamation_Count  Dot_Count  \n",
       "0         5.285714                  1          4  \n",
       "1         4.944444                  0          1  \n",
       "2         4.700000                  0          0  \n",
       "3         5.285714                  0          3  \n",
       "4         5.800000                  0          0  "
      ]
     },
     "execution_count": 40,
     "metadata": {},
     "output_type": "execute_result"
    }
   ],
   "source": [
    "# Lasketaan tekstin ominaisuuksia jokaiselle viestille\n",
    "df['Length'] = df['Comment'].apply(len)  # Merkkien määrä\n",
    "df['Word_Count'] = df['Comment'].apply(lambda x: len(x.split()))  # Sanojen määrä\n",
    "df['Avg_Word_Length'] = df['Length'] / df['Word_Count']  # Keskimääräinen sanan pituus\n",
    "df['Exclamation_Count'] = df['Comment'].str.count(r'!')  # Huutomerkkejä\n",
    "df['Dot_Count'] = df['Comment'].str.count(r'\\.')  # Pisteitä\n",
    "\n",
    "# Näytetään muutama rivi datasta uusilla ominaisuuksilla\n",
    "df[['Comment', 'Length', 'Word_Count', 'Avg_Word_Length', 'Exclamation_Count', 'Dot_Count']].head()\n"
   ]
  },
  {
   "cell_type": "code",
   "execution_count": 41,
   "metadata": {},
   "outputs": [
    {
     "name": "stdout",
     "output_type": "stream",
     "text": [
      "Cluster_Bot\n",
      "0    248\n",
      "1    166\n",
      "2     85\n",
      "Name: count, dtype: int64\n"
     ]
    }
   ],
   "source": [
    "# Ominaisuudet k-means-klusterointiin\n",
    "features = ['Length', 'Word_Count', 'Avg_Word_Length', 'Exclamation_Count', 'Dot_Count']\n",
    "\n",
    "# Normaaliarvoistus (tärkeää k-meansille)\n",
    "from sklearn.preprocessing import StandardScaler\n",
    "scaler = StandardScaler()\n",
    "X_scaled = scaler.fit_transform(df[features])\n",
    "\n",
    "# K-means-algoritmi\n",
    "kmeans = KMeans(n_clusters=3, random_state=42)\n",
    "df['Cluster_Bot'] = kmeans.fit_predict(X_scaled)\n",
    "\n",
    "# Klusterien jakauma\n",
    "print(df['Cluster_Bot'].value_counts())\n"
   ]
  },
  {
   "cell_type": "code",
   "execution_count": 42,
   "metadata": {},
   "outputs": [
    {
     "name": "stdout",
     "output_type": "stream",
     "text": [
      "\n",
      "Cluster 0 (Esimerkkiviestit):\n",
      "['my whole body feels itchy and like its on fire ', '@Kwesidei not the whole crew ', 'Need a hug ', \"@Tatiana_K nope they didn't have it \", '@twittera que me muera ? ']\n",
      "\n",
      "Cluster 1 (Esimerkkiviestit):\n",
      "['@Kenichan I dived many times for the ball. Managed to save 50%  The rest go out of bounds', \"@LOLTrish hey  long time no see! Yes.. Rains a bit ,only a bit  LOL , I'm fine thanks , how's you ?\", '@octolinz16 It it counts, idk why I did either. you never talk to me anymore ', \"@smarrison i would've been the first, but i didn't have a gun.    not really though, zac snyder's just a doucheclown.\", '@iamjazzyfizzle I wish I got to watch it with you!! I miss you and @iamlilnicki  how was the premiere?!']\n",
      "\n",
      "Cluster 2 (Esimerkkiviestit):\n",
      "[\"is upset that he can't update his Facebook by texting it... and might cry as a result  School today also. Blah!\", \"@nationwideclass no, it's not behaving at all. i'm mad. why am i here? because I can't see you all over there. \", \"@caregiving I couldn't bear to watch it.  And I thought the UA loss was embarrassing . . . . .\", \"one of my friend called me, and asked to meet with her at Mid Valley today...but i've no time *sigh* \", \"ooooh.... LOL  that leslie.... and ok I won't do it again so leslie won't  get mad again \"]\n"
     ]
    }
   ],
   "source": [
    "# Esimerkkiviestit klustereista\n",
    "for cluster in range(3):  # Kolme klusteria\n",
    "    print(f\"\\nCluster {cluster} (Esimerkkiviestit):\")\n",
    "    print(df[df['Cluster_Bot'] == cluster]['Comment'].head(5).tolist())\n"
   ]
  },
  {
   "cell_type": "code",
   "execution_count": 43,
   "metadata": {},
   "outputs": [
    {
     "data": {
      "text/html": [
       "<div>\n",
       "<style scoped>\n",
       "    .dataframe tbody tr th:only-of-type {\n",
       "        vertical-align: middle;\n",
       "    }\n",
       "\n",
       "    .dataframe tbody tr th {\n",
       "        vertical-align: top;\n",
       "    }\n",
       "\n",
       "    .dataframe thead th {\n",
       "        text-align: right;\n",
       "    }\n",
       "</style>\n",
       "<table border=\"1\" class=\"dataframe\">\n",
       "  <thead>\n",
       "    <tr style=\"text-align: right;\">\n",
       "      <th></th>\n",
       "      <th>Comment</th>\n",
       "      <th>Cluster_Bot</th>\n",
       "      <th>Cluster_Bot_Label</th>\n",
       "    </tr>\n",
       "  </thead>\n",
       "  <tbody>\n",
       "    <tr>\n",
       "      <th>0</th>\n",
       "      <td>is upset that he can't update his Facebook by ...</td>\n",
       "      <td>2</td>\n",
       "      <td>Sekaryhmä</td>\n",
       "    </tr>\n",
       "    <tr>\n",
       "      <th>1</th>\n",
       "      <td>@Kenichan I dived many times for the ball. Man...</td>\n",
       "      <td>1</td>\n",
       "      <td>Bottiviestit</td>\n",
       "    </tr>\n",
       "    <tr>\n",
       "      <th>2</th>\n",
       "      <td>my whole body feels itchy and like its on fire</td>\n",
       "      <td>0</td>\n",
       "      <td>Ihmisten viestit</td>\n",
       "    </tr>\n",
       "    <tr>\n",
       "      <th>3</th>\n",
       "      <td>@nationwideclass no, it's not behaving at all....</td>\n",
       "      <td>2</td>\n",
       "      <td>Sekaryhmä</td>\n",
       "    </tr>\n",
       "    <tr>\n",
       "      <th>4</th>\n",
       "      <td>@Kwesidei not the whole crew</td>\n",
       "      <td>0</td>\n",
       "      <td>Ihmisten viestit</td>\n",
       "    </tr>\n",
       "  </tbody>\n",
       "</table>\n",
       "</div>"
      ],
      "text/plain": [
       "                                             Comment  Cluster_Bot  \\\n",
       "0  is upset that he can't update his Facebook by ...            2   \n",
       "1  @Kenichan I dived many times for the ball. Man...            1   \n",
       "2    my whole body feels itchy and like its on fire             0   \n",
       "3  @nationwideclass no, it's not behaving at all....            2   \n",
       "4                      @Kwesidei not the whole crew             0   \n",
       "\n",
       "  Cluster_Bot_Label  \n",
       "0         Sekaryhmä  \n",
       "1      Bottiviestit  \n",
       "2  Ihmisten viestit  \n",
       "3         Sekaryhmä  \n",
       "4  Ihmisten viestit  "
      ]
     },
     "execution_count": 43,
     "metadata": {},
     "output_type": "execute_result"
    }
   ],
   "source": [
    "# Klusterien tulkinta\n",
    "cluster_names_bot = {\n",
    "    0: \"Ihmisten viestit\",\n",
    "    1: \"Bottiviestit\",\n",
    "    2: \"Sekaryhmä\"\n",
    "}\n",
    "\n",
    "# Lisätään klusterinimi dataan\n",
    "df['Cluster_Bot_Label'] = df['Cluster_Bot'].map(cluster_names_bot)\n",
    "\n",
    "# Näytetään data klusterinimen kanssa\n",
    "df[['Comment', 'Cluster_Bot', 'Cluster_Bot_Label']].head()\n"
   ]
  },
  {
   "cell_type": "code",
   "execution_count": 44,
   "metadata": {},
   "outputs": [
    {
     "data": {
      "image/png": "[encoded data removed]",
      "text/plain": [
       "<Figure size 800x500 with 1 Axes>"
      ]
     },
     "metadata": {},
     "output_type": "display_data"
    }
   ],
   "source": [
    "# Klusterien jakauman visualisointi\n",
    "bot_counts = df['Cluster_Bot_Label'].value_counts()\n",
    "\n",
    "plt.figure(figsize=(8, 5))\n",
    "bot_counts.plot(kind='bar', color=['blue', 'orange', 'green'])\n",
    "plt.title(\"Bottiviestien jaottelu\")\n",
    "plt.xlabel(\"Klusteri\")\n",
    "plt.ylabel(\"Viestien määrä\")\n",
    "plt.xticks(rotation=0)\n",
    "plt.show()\n"
   ]
  },
  {
   "cell_type": "code",
   "execution_count": null,
   "metadata": {},
   "outputs": [],
   "source": []
  }
 ],
 "metadata": {
  "kernelspec": {
   "display_name": "Python 3",
   "language": "python",
   "name": "python3"
  },
  "language_info": {
   "codemirror_mode": {
    "name": "ipython",
    "version": 3
   },
   "file_extension": ".py",
   "mimetype": "text/x-python",
   "name": "python",
   "nbconvert_exporter": "python",
   "pygments_lexer": "ipython3",
   "version": "3.12.5"
  }
 },
 "nbformat": 4,
 "nbformat_minor": 2
}
