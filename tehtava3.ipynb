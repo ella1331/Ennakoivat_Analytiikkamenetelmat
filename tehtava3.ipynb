{
 "cells": [
  {
   "cell_type": "markdown",
   "metadata": {},
   "source": [
    "Ryhmä 15: Ilkka Norokallio, Riku Määttä ja Elina Luumi\n",
    "Koodasimme yhdessä koko tehtävän teamsin välityksellä. Teimme yhteistyötä koko tehtävänannon ajan, ja jokainen osallistui aktiivisesti. Sen takia meillä kaikilla on samanlaiset tiedostot. Ylläpidimme projektia githubissa.\n",
    "\n",
    "Tehtävä 3\n",
    "k-Means algortimin kokeiluja\n",
    "\n",
    "Valitsimme Kagglesta tällaisen datasetin: https://www.kaggle.com/datasets/kazanova/sentiment140\n",
    "Lyhensimme datasettiä näihin meidän testailuihin, koska datasettiä oli niin iso. Valitsimme 500 twiittiä datasetistä, joita tässä meidän koodissamme testaamme. Koodissamme löytyvät meidän kaksi käyttötapausta, joista koodasimme myös\n"
   ]
  },
  {
   "cell_type": "code",
   "execution_count": 2,
   "metadata": {},
   "outputs": [],
   "source": [
    "# Kirjastot\n",
    "\n",
    "import pandas as pd\n",
    "from sklearn.feature_extraction.text import TfidfVectorizer\n",
    "from sklearn.cluster import KMeans\n",
    "import matplotlib.pyplot as plt\n",
    "from collections import Counter\n",
    "import re\n",
    "from sklearn.preprocessing import StandardScaler"
   ]
  },
  {
   "cell_type": "code",
   "execution_count": 3,
   "metadata": {},
   "outputs": [
    {
     "data": {
      "text/html": [
       "<div>\n",
       "<style scoped>\n",
       "    .dataframe tbody tr th:only-of-type {\n",
       "        vertical-align: middle;\n",
       "    }\n",
       "\n",
       "    .dataframe tbody tr th {\n",
       "        vertical-align: top;\n",
       "    }\n",
       "\n",
       "    .dataframe thead th {\n",
       "        text-align: right;\n",
       "    }\n",
       "</style>\n",
       "<table border=\"1\" class=\"dataframe\">\n",
       "  <thead>\n",
       "    <tr style=\"text-align: right;\">\n",
       "      <th></th>\n",
       "      <th>ID</th>\n",
       "      <th>Date</th>\n",
       "      <th>Query</th>\n",
       "      <th>Username</th>\n",
       "      <th>Comment</th>\n",
       "    </tr>\n",
       "  </thead>\n",
       "  <tbody>\n",
       "    <tr>\n",
       "      <th>0</th>\n",
       "      <td>1467810672</td>\n",
       "      <td>Mon Apr 06 22:19:49 PDT 2009</td>\n",
       "      <td>NO_QUERY</td>\n",
       "      <td>scotthamilton</td>\n",
       "      <td>is upset that he can't update his Facebook by ...</td>\n",
       "    </tr>\n",
       "    <tr>\n",
       "      <th>1</th>\n",
       "      <td>1467810917</td>\n",
       "      <td>Mon Apr 06 22:19:53 PDT 2009</td>\n",
       "      <td>NO_QUERY</td>\n",
       "      <td>mattycus</td>\n",
       "      <td>@Kenichan I dived many times for the ball. Man...</td>\n",
       "    </tr>\n",
       "    <tr>\n",
       "      <th>2</th>\n",
       "      <td>1467811184</td>\n",
       "      <td>Mon Apr 06 22:19:57 PDT 2009</td>\n",
       "      <td>NO_QUERY</td>\n",
       "      <td>ElleCTF</td>\n",
       "      <td>my whole body feels itchy and like its on fire</td>\n",
       "    </tr>\n",
       "    <tr>\n",
       "      <th>3</th>\n",
       "      <td>1467811193</td>\n",
       "      <td>Mon Apr 06 22:19:57 PDT 2009</td>\n",
       "      <td>NO_QUERY</td>\n",
       "      <td>Karoli</td>\n",
       "      <td>@nationwideclass no, it's not behaving at all....</td>\n",
       "    </tr>\n",
       "    <tr>\n",
       "      <th>4</th>\n",
       "      <td>1467811372</td>\n",
       "      <td>Mon Apr 06 22:20:00 PDT 2009</td>\n",
       "      <td>NO_QUERY</td>\n",
       "      <td>joy_wolf</td>\n",
       "      <td>@Kwesidei not the whole crew</td>\n",
       "    </tr>\n",
       "  </tbody>\n",
       "</table>\n",
       "</div>"
      ],
      "text/plain": [
       "           ID                          Date     Query       Username  \\\n",
       "0  1467810672  Mon Apr 06 22:19:49 PDT 2009  NO_QUERY  scotthamilton   \n",
       "1  1467810917  Mon Apr 06 22:19:53 PDT 2009  NO_QUERY       mattycus   \n",
       "2  1467811184  Mon Apr 06 22:19:57 PDT 2009  NO_QUERY        ElleCTF   \n",
       "3  1467811193  Mon Apr 06 22:19:57 PDT 2009  NO_QUERY         Karoli   \n",
       "4  1467811372  Mon Apr 06 22:20:00 PDT 2009  NO_QUERY       joy_wolf   \n",
       "\n",
       "                                             Comment  \n",
       "0  is upset that he can't update his Facebook by ...  \n",
       "1  @Kenichan I dived many times for the ball. Man...  \n",
       "2    my whole body feels itchy and like its on fire   \n",
       "3  @nationwideclass no, it's not behaving at all....  \n",
       "4                      @Kwesidei not the whole crew   "
      ]
     },
     "execution_count": 3,
     "metadata": {},
     "output_type": "execute_result"
    }
   ],
   "source": [
    "# Datan lataaminen ja tarkastaminen\n",
    "df = pd.read_csv('muokattu_twitter_dataset.csv')\n",
    "\n",
    "df.head()"
   ]
  },
  {
   "cell_type": "markdown",
   "metadata": {},
   "source": [
    "1. Käyttötapaus:\n",
    "Analysoidaan negatiivisten, positiivisten ja neutraalien twiittien määrä"
   ]
  },
  {
   "cell_type": "code",
   "execution_count": 4,
   "metadata": {},
   "outputs": [],
   "source": [
    "# Valitaan tekstidata (Comments-sarake)\n",
    "comments = df['Comment']\n",
    "\n",
    "# Muunnetaan tekstidata numeeriseksi TF-IDF-vektorisoinnilla\n",
    "vectorizer = TfidfVectorizer(stop_words='english', max_features=500)\n",
    "X = vectorizer.fit_transform(comments)"
   ]
  },
  {
   "cell_type": "code",
   "execution_count": 5,
   "metadata": {},
   "outputs": [
    {
     "data": {
      "text/html": [
       "<div>\n",
       "<style scoped>\n",
       "    .dataframe tbody tr th:only-of-type {\n",
       "        vertical-align: middle;\n",
       "    }\n",
       "\n",
       "    .dataframe tbody tr th {\n",
       "        vertical-align: top;\n",
       "    }\n",
       "\n",
       "    .dataframe thead th {\n",
       "        text-align: right;\n",
       "    }\n",
       "</style>\n",
       "<table border=\"1\" class=\"dataframe\">\n",
       "  <thead>\n",
       "    <tr style=\"text-align: right;\">\n",
       "      <th></th>\n",
       "      <th>Comment</th>\n",
       "      <th>Cluster</th>\n",
       "    </tr>\n",
       "  </thead>\n",
       "  <tbody>\n",
       "    <tr>\n",
       "      <th>0</th>\n",
       "      <td>is upset that he can't update his Facebook by ...</td>\n",
       "      <td>0</td>\n",
       "    </tr>\n",
       "    <tr>\n",
       "      <th>1</th>\n",
       "      <td>@Kenichan I dived many times for the ball. Man...</td>\n",
       "      <td>0</td>\n",
       "    </tr>\n",
       "    <tr>\n",
       "      <th>2</th>\n",
       "      <td>my whole body feels itchy and like its on fire</td>\n",
       "      <td>1</td>\n",
       "    </tr>\n",
       "    <tr>\n",
       "      <th>3</th>\n",
       "      <td>@nationwideclass no, it's not behaving at all....</td>\n",
       "      <td>0</td>\n",
       "    </tr>\n",
       "    <tr>\n",
       "      <th>4</th>\n",
       "      <td>@Kwesidei not the whole crew</td>\n",
       "      <td>0</td>\n",
       "    </tr>\n",
       "  </tbody>\n",
       "</table>\n",
       "</div>"
      ],
      "text/plain": [
       "                                             Comment  Cluster\n",
       "0  is upset that he can't update his Facebook by ...        0\n",
       "1  @Kenichan I dived many times for the ball. Man...        0\n",
       "2    my whole body feels itchy and like its on fire         1\n",
       "3  @nationwideclass no, it's not behaving at all....        0\n",
       "4                      @Kwesidei not the whole crew         0"
      ]
     },
     "execution_count": 5,
     "metadata": {},
     "output_type": "execute_result"
    }
   ],
   "source": [
    "# Määritetään klusterien määrä (esimerkiksi 3: positiivinen, neutraali, negatiivinen)\n",
    "k = 3\n",
    "\n",
    "# K-means-algoritmin soveltaminen\n",
    "kmeans = KMeans(n_clusters=k, random_state=42)\n",
    "kmeans.fit(X)\n",
    "\n",
    "# Lisätään klusteritieto dataan\n",
    "df['Cluster'] = kmeans.labels_\n",
    "\n",
    "# Näytetään muutamia rivejä klusteritiedolla\n",
    "df[['Comment', 'Cluster']].head()\n",
    "\n"
   ]
  },
  {
   "cell_type": "code",
   "execution_count": 6,
   "metadata": {},
   "outputs": [
    {
     "name": "stdout",
     "output_type": "stream",
     "text": [
      "Cluster\n",
      "0    399\n",
      "1     64\n",
      "2     36\n",
      "dtype: int64\n",
      "\n",
      "Cluster 0:\n",
      "[\"is upset that he can't update his Facebook by texting it... and might cry as a result  School today also. Blah!\", '@Kenichan I dived many times for the ball. Managed to save 50%  The rest go out of bounds', \"@nationwideclass no, it's not behaving at all. i'm mad. why am i here? because I can't see you all over there. \", '@Kwesidei not the whole crew ', 'Need a hug ']\n",
      "\n",
      "Cluster 1:\n",
      "['my whole body feels itchy and like its on fire ', \"@smarrison i would've been the first, but i didn't have a gun.    not really though, zac snyder's just a doucheclown.\", \"one of my friend called me, and asked to meet with her at Mid Valley today...but i've no time *sigh* \", \"ok I'm sick and spent an hour sitting in the shower cause I was too sick to stand and held back the puke like a champ. BED now \", '@cocomix04 ill tell ya the story later  not a good day and ill be workin for like three more hours...']\n",
      "\n",
      "Cluster 2:\n",
      "['this week is not going as i had hoped ', 'Just going to cry myself to sleep after watching Marley and Me.  ', '@alielayus I want to go to promote GEAR AND GROOVE but unfornately no ride there  I may b going to the one in Anaheim in May though', \"@fleurylis I don't either. Its depressing. I don't think I even want to know about the kids in suitcases. \", '@andywana Not sure what they are, only that they are PoS! As much as I want to, I dont think can trade away company assets sorry andy! ']\n"
     ]
    }
   ],
   "source": [
    "# Tarkastellaan, kuinka monta viestiä kuuluu kuhunkin klusteriin\n",
    "print(df.groupby('Cluster').size())\n",
    "\n",
    "# Katsotaan esimerkkiviestejä jokaisesta klusterista\n",
    "for cluster in range(k):\n",
    "    print(f\"\\nCluster {cluster}:\")\n",
    "    print(df[df['Cluster'] == cluster]['Comment'].head(5).tolist())\n"
   ]
  },
  {
   "cell_type": "code",
   "execution_count": 7,
   "metadata": {},
   "outputs": [
    {
     "data": {
      "text/html": [
       "<div>\n",
       "<style scoped>\n",
       "    .dataframe tbody tr th:only-of-type {\n",
       "        vertical-align: middle;\n",
       "    }\n",
       "\n",
       "    .dataframe tbody tr th {\n",
       "        vertical-align: top;\n",
       "    }\n",
       "\n",
       "    .dataframe thead th {\n",
       "        text-align: right;\n",
       "    }\n",
       "</style>\n",
       "<table border=\"1\" class=\"dataframe\">\n",
       "  <thead>\n",
       "    <tr style=\"text-align: right;\">\n",
       "      <th></th>\n",
       "      <th>Comment</th>\n",
       "      <th>Cluster</th>\n",
       "      <th>Cluster_Label</th>\n",
       "    </tr>\n",
       "  </thead>\n",
       "  <tbody>\n",
       "    <tr>\n",
       "      <th>0</th>\n",
       "      <td>is upset that he can't update his Facebook by ...</td>\n",
       "      <td>0</td>\n",
       "      <td>Negatiivinen</td>\n",
       "    </tr>\n",
       "    <tr>\n",
       "      <th>1</th>\n",
       "      <td>@Kenichan I dived many times for the ball. Man...</td>\n",
       "      <td>0</td>\n",
       "      <td>Negatiivinen</td>\n",
       "    </tr>\n",
       "    <tr>\n",
       "      <th>2</th>\n",
       "      <td>my whole body feels itchy and like its on fire</td>\n",
       "      <td>1</td>\n",
       "      <td>Neutraali</td>\n",
       "    </tr>\n",
       "    <tr>\n",
       "      <th>3</th>\n",
       "      <td>@nationwideclass no, it's not behaving at all....</td>\n",
       "      <td>0</td>\n",
       "      <td>Negatiivinen</td>\n",
       "    </tr>\n",
       "    <tr>\n",
       "      <th>4</th>\n",
       "      <td>@Kwesidei not the whole crew</td>\n",
       "      <td>0</td>\n",
       "      <td>Negatiivinen</td>\n",
       "    </tr>\n",
       "  </tbody>\n",
       "</table>\n",
       "</div>"
      ],
      "text/plain": [
       "                                             Comment  Cluster Cluster_Label\n",
       "0  is upset that he can't update his Facebook by ...        0  Negatiivinen\n",
       "1  @Kenichan I dived many times for the ball. Man...        0  Negatiivinen\n",
       "2    my whole body feels itchy and like its on fire         1     Neutraali\n",
       "3  @nationwideclass no, it's not behaving at all....        0  Negatiivinen\n",
       "4                      @Kwesidei not the whole crew         0  Negatiivinen"
      ]
     },
     "execution_count": 7,
     "metadata": {},
     "output_type": "execute_result"
    }
   ],
   "source": [
    "# Klustereiden tulkinta esimerkkiviestien perusteella\n",
    "cluster_names = {\n",
    "    0: \"Negatiivinen\",\n",
    "    1: \"Neutraali\",\n",
    "    2: \"Positiivinen\"\n",
    "}\n",
    "\n",
    "# Lisätään klusterin nimi dataan\n",
    "df['Cluster_Label'] = df['Cluster'].map(cluster_names)\n",
    "\n",
    "# Näytetään data klusterinimen kanssa\n",
    "df[['Comment', 'Cluster', 'Cluster_Label']].head()\n"
   ]
  },
  {
   "cell_type": "code",
   "execution_count": 8,
   "metadata": {},
   "outputs": [
    {
     "data": {
      "image/png": "[encoded data removed]",
      "text/plain": [
       "<Figure size 800x500 with 1 Axes>"
      ]
     },
     "metadata": {},
     "output_type": "display_data"
    }
   ],
   "source": [
    "# Visualisoidaan klusterien jakauma\n",
    "cluster_counts = df['Cluster_Label'].value_counts()\n",
    "\n",
    "plt.figure(figsize=(8, 5))\n",
    "cluster_counts.plot(kind='bar', color=['red', 'gray', 'green'])\n",
    "plt.title(\"Viestejä klustereittain\")\n",
    "plt.xlabel(\"Klusteri\")\n",
    "plt.ylabel(\"Viestimäärä\")\n",
    "plt.xticks(rotation=0)\n",
    "plt.show()\n"
   ]
  },
  {
   "cell_type": "markdown",
   "metadata": {},
   "source": [
    "2. käyttötapaus:\n",
    "Bottiliikenteen ja epäilyttävän käyttäytymisen tunnistaminen twiiteistä"
   ]
  },
  {
   "cell_type": "code",
   "execution_count": 38,
   "metadata": {},
   "outputs": [
    {
     "name": "stdout",
     "output_type": "stream",
     "text": [
      "Cluster_Bot\n",
      "0    252\n",
      "2    207\n",
      "1     40\n",
      "Name: count, dtype: int64\n",
      "\n",
      "Cluster 0 (Esimerkkiviestit):\n",
      "['my whole body feels itchy and like its on fire ', '@Kwesidei not the whole crew ', 'Need a hug ', \"@Tatiana_K nope they didn't have it \", '@twittera que me muera ? ']\n",
      "\n",
      "Cluster 1 (Esimerkkiviestit):\n",
      "['@MissXu sorry! bed time came here (GMT+1)   http://is.gd/fNge', 'Ugh....92 degrees tomorrow ', '@katortiz  Not forever... See you soon!', \"Why won't you show my location?!   http://twitpic.com/2y2es\", 'Strider is a sick little puppy  http://apps.facebook.com/dogbook/profile/view/5248435']\n",
      "\n",
      "Cluster 2 (Esimerkkiviestit):\n",
      "[\"is upset that he can't update his Facebook by texting it... and might cry as a result  School today also. Blah!\", '@Kenichan I dived many times for the ball. Managed to save 50%  The rest go out of bounds', \"@nationwideclass no, it's not behaving at all. i'm mad. why am i here? because I can't see you all over there. \", \"@LOLTrish hey  long time no see! Yes.. Rains a bit ,only a bit  LOL , I'm fine thanks , how's you ?\", \"@caregiving I couldn't bear to watch it.  And I thought the UA loss was embarrassing . . . . .\"]\n"
     ]
    }
   ],
   "source": [
    "# Lasketaan tekstin ominaisuuksia jokaiselle viestille\n",
    "df.loc[:, 'Length'] = df['Comment'].apply(len)  # Merkkien määrä\n",
    "df.loc[:, 'Word_Count'] = df['Comment'].apply(lambda x: len(x.split()))  # Sanojen määrä\n",
    "df.loc[:, 'Avg_Word_Length'] = df['Length'] / df['Word_Count']  # Keskimääräinen sanan pituus\n",
    "df.loc[:, 'Exclamation_Count'] = df['Comment'].str.count(r'!')  # Huutomerkkejä\n",
    "df.loc[:, 'Dot_Count'] = df['Comment'].str.count(r'\\.')  # Pisteitä\n",
    "\n",
    "# Lasketaan toistuvat sanat\n",
    "from collections import Counter\n",
    "def word_repetition(comment):\n",
    "    words = comment.lower().split()\n",
    "    word_counts = Counter(words)\n",
    "    return sum(count - 1 for count in word_counts.values() if count > 1)\n",
    "\n",
    "df.loc[:, 'Word_Repetition'] = df['Comment'].apply(word_repetition)\n",
    "\n",
    "# Lasketaan lauseiden määrä (pisteet, huutomerkki, kysymysmerkki)\n",
    "import re\n",
    "def sentence_count(comment):\n",
    "    return len(re.findall(r'[.!?]', comment))\n",
    "\n",
    "df.loc[:, 'Sentence_Count'] = df['Comment'].apply(sentence_count)\n",
    "\n",
    "# Lasketaan lauserakenteiden toistuvuus\n",
    "def sentence_repetition(comment):\n",
    "    sentences = [s.strip() for s in re.split(r'[.!?]', comment.lower()) if s.strip()]\n",
    "    sentence_counts = Counter(sentences)\n",
    "    return sum(count - 1 for count in sentence_counts.values() if count > 1)\n",
    "\n",
    "df.loc[:, 'Sentence_Repetition'] = df['Comment'].apply(sentence_repetition)\n",
    "\n",
    "# Normaaliarvoistus (tärkeää k-meansille)\n",
    "from sklearn.preprocessing import StandardScaler\n",
    "scaler = StandardScaler()\n",
    "features = ['Length', 'Word_Count', 'Avg_Word_Length', 'Exclamation_Count', 'Dot_Count', 'Word_Repetition', 'Sentence_Count', 'Sentence_Repetition']\n",
    "X_scaled = scaler.fit_transform(df[features])\n",
    "\n",
    "# K-means-algoritmi (aluksi testataan 3 klusteria)\n",
    "from sklearn.cluster import KMeans\n",
    "kmeans = KMeans(n_clusters=3, random_state=42)\n",
    "df['Cluster_Bot'] = kmeans.fit_predict(X_scaled)\n",
    "\n",
    "# Klusterien jakauma\n",
    "print(df['Cluster_Bot'].value_counts())\n",
    "\n",
    "# Esimerkkiviestit klustereista\n",
    "for cluster in range(3):  # Kolme klusteria\n",
    "    cluster_comments = df[df['Cluster_Bot'] == cluster]['Comment']\n",
    "    if not cluster_comments.empty:\n",
    "        print(f\"\\nCluster {cluster} (Esimerkkiviestit):\")\n",
    "        print(cluster_comments.head(5).tolist())\n",
    "    else:\n",
    "        print(f\"\\nCluster {cluster} ei sisällä viestejä.\")\n",
    "\n"
   ]
  },
  {
   "cell_type": "code",
   "execution_count": 39,
   "metadata": {},
   "outputs": [
    {
     "name": "stdout",
     "output_type": "stream",
     "text": [
      "\n",
      "Analyysi - Cluster 0 (Ihmisten viestit):\n",
      "Klusterin koko: 252 viestiä\n",
      "Keskiarvot ominaisuuksista: \n",
      "Length               51.730159\n",
      "Word_Count            9.436508\n",
      "Avg_Word_Length       5.496512\n",
      "Exclamation_Count     0.281746\n",
      "Dot_Count             0.587302\n",
      "dtype: float64\n",
      "\n",
      "Esimerkkiviestit (Ihmisten viestit):\n",
      "Esimerkki 1: my whole body feels itchy and like its on fire \n",
      "Esimerkki 2: @Kwesidei not the whole crew \n",
      "Esimerkki 3: Need a hug \n",
      "Esimerkki 4: @Tatiana_K nope they didn't have it \n",
      "Esimerkki 5: @twittera que me muera ? \n",
      "\n",
      "Analyysi - Cluster 1 (Bottiviestit):\n",
      "Klusterin koko: 40 viestiä\n",
      "Keskiarvot ominaisuuksista: \n",
      "Length               44.025000\n",
      "Word_Count            5.650000\n",
      "Avg_Word_Length       8.708482\n",
      "Exclamation_Count     1.075000\n",
      "Dot_Count             2.000000\n",
      "dtype: float64\n",
      "\n",
      "Esimerkkiviestit (Bottiviestit):\n",
      "Esimerkki 1: @MissXu sorry! bed time came here (GMT+1)   http://is.gd/fNge\n",
      "Esimerkki 2: Ugh....92 degrees tomorrow \n",
      "Esimerkki 3: @katortiz  Not forever... See you soon!\n",
      "Esimerkki 4: Why won't you show my location?!   http://twitpic.com/2y2es\n",
      "Esimerkki 5: Strider is a sick little puppy  http://apps.facebook.com/dogbook/profile/view/5248435\n"
     ]
    }
   ],
   "source": [
    "    \n",
    "# Klusterien tulkinta\n",
    "cluster_names_bot = {\n",
    "    0: \"Ihmisten viestit\",\n",
    "    1: \"Bottiviestit\"\n",
    "}\n",
    "\n",
    "# Lisätään klusterinimi dataan\n",
    "df['Cluster_Bot_Label'] = df['Cluster_Bot'].map(cluster_names_bot)\n",
    "\n",
    "# Näytetään data klusterinimen kanssa\n",
    "df[['Comment', 'Cluster_Bot', 'Cluster_Bot_Label']].head()\n",
    "\n",
    "# Klusterikohtainen analyysi ja tyypillisten piirteiden tarkastelu\n",
    "for cluster in range(2):\n",
    "    print(f\"\\nAnalyysi - Cluster {cluster} ({cluster_names_bot[cluster]}):\")\n",
    "    cluster_data = df[df['Cluster_Bot'] == cluster]\n",
    "\n",
    "    print(f\"Klusterin koko: {cluster_data.shape[0]} viestiä\")\n",
    "    \n",
    "    # Keskiarvot klusterin ominaisuuksista\n",
    "    avg_features = cluster_data[['Length', 'Word_Count', 'Avg_Word_Length', 'Exclamation_Count', 'Dot_Count']].mean()\n",
    "    print(f\"Keskiarvot ominaisuuksista: \\n{avg_features}\")\n",
    "    \n",
    "    # Esimerkkiviestit\n",
    "    print(f\"\\nEsimerkkiviestit ({cluster_names_bot[cluster]}):\")\n",
    "    example_comments = cluster_data['Comment'].head(5).tolist()\n",
    "    for idx, comment in enumerate(example_comments):\n",
    "        print(f\"Esimerkki {idx+1}: {comment}\")\n"
   ]
  },
  {
   "cell_type": "code",
   "execution_count": 40,
   "metadata": {},
   "outputs": [
    {
     "data": {
      "image/png": "[encoded data removed]",
      "text/plain": [
       "<Figure size 800x500 with 1 Axes>"
      ]
     },
     "metadata": {},
     "output_type": "display_data"
    }
   ],
   "source": [
    "# Klusterien jakauman visualisointi\n",
    "bot_counts = df['Cluster_Bot_Label'].value_counts()\n",
    "\n",
    "# Visualisoidaan klusterien jakauma\n",
    "plt.figure(figsize=(8, 5))\n",
    "\n",
    "# Värit vain kahdelle klusterille\n",
    "bot_counts.plot(kind='bar', color=['blue', 'orange'])  # Poistettu sekaryhmä\n",
    "\n",
    "plt.title(\"Bottiviestien jaottelu\", fontsize=14)\n",
    "plt.xlabel(\"Klusteri\", fontsize=12)\n",
    "plt.ylabel(\"Viestien määrä\", fontsize=12)\n",
    "\n",
    "# Akselin nimet ja värit\n",
    "plt.xticks(rotation=0, fontsize=11)\n",
    "plt.yticks(fontsize=11)\n",
    "\n",
    "# Parannetaan ulkoasua\n",
    "plt.tight_layout()\n",
    "plt.show()\n",
    "\n",
    "\n"
   ]
  },
  {
   "cell_type": "code",
   "execution_count": 41,
   "metadata": {},
   "outputs": [],
   "source": [
    "# Elbow-menetelmä k-means-klusterien optimaalisen määrän löytämiseksi\n",
    "from sklearn.metrics import silhouette_score        #Tuodaan silhouette_score-metriikka\n",
    "# Kokeillaan eri k-arvoja\n",
    "k_values = range(2, 11)         # Määritetään k-arvojen vaihteluväli 2-10\n",
    "inertias = []                   # Luodaan tyhjät listat inertioille\n",
    "silhouette_scores = []          # Luodaan tyhjät listat silhouette-pisteille\n"
   ]
  },
  {
   "cell_type": "code",
   "execution_count": 42,
   "metadata": {},
   "outputs": [],
   "source": [
    "# Käydään läpi jokainen k-arvo\n",
    "for k in k_values:\n",
    "    kmeans = KMeans(n_clusters=k, random_state=42)          #Luodaan KMeans-malli kullekin k:n arvolle\n",
    "    kmeans.fit(X_scaled)                                    \n",
    "    inertias.append(kmeans.inertia_)                        #Lasketaan inertia jokaiselle klusterimäärälle\n",
    "    silhouette_scores.append(silhouette_score(X_scaled, kmeans.labels_))        # Lasketaan silhouette-pisteet jokaiselle klusterimäärälle ja tallennetaan tulokset listoihin\n"
   ]
  },
  {
   "cell_type": "code",
   "execution_count": 43,
   "metadata": {},
   "outputs": [
    {
     "data": {
      "image/png": "[encoded data removed]",
      "text/plain": [
       "<Figure size 1200x500 with 2 Axes>"
      ]
     },
     "metadata": {},
     "output_type": "display_data"
    }
   ],
   "source": [
    "# Elbow-menetelmän visualisointi\n",
    "#Luodaan kuvapohja kahdelle kuvaajalle\n",
    "#Ensimmäinen kuvaaja: Inertian muutos k-arvojen suhteen\n",
    "plt.figure(figsize=(12,5))\n",
    "plt.subplot(1,2,1)\n",
    "plt.plot(list(k_values), inertias, 'bx-')\n",
    "plt.xlabel('k')\n",
    "plt.ylabel('Inertia')\n",
    "plt.title('Elbow Method')\n",
    "\n",
    "#Toinen kuvaaja: Silhouette-pisteiden muutos k-arvojen suhteen\n",
    "plt.subplot(1,2,2)\n",
    "plt.plot(list(k_values), silhouette_scores, 'rx-')\n",
    "plt.xlabel('k')\n",
    "plt.ylabel('Silhouette Score')\n",
    "plt.title('Silhouette Analysis')\n",
    "\n",
    "plt.tight_layout()\n",
    "plt.show()"
   ]
  },
  {
   "cell_type": "code",
   "execution_count": 44,
   "metadata": {},
   "outputs": [],
   "source": [
    "# Harjoitus/testausjakaumien vaikutuksen arviointi\n",
    "from sklearn.model_selection import train_test_split        #Tuodaan train_test_split-funktio\n",
    "\n",
    "split_ratios = [0.6, 0.7, 0.8, 0.9]                         #Määritetään testattavat jakaumasuhteet\n",
    "results = []                                                #Luodaan tyhjä tulos-lista\n",
    "\n"
   ]
  },
  {
   "cell_type": "code",
   "execution_count": 45,
   "metadata": {},
   "outputs": [],
   "source": [
    "# Eri jakaumien testaaminen\n",
    "for ratio in split_ratios:                  #Käydään läpi jokainen jakaumasuhde\n",
    "    # Jako harjoitus- ja testijoukkoon\n",
    "    X_train, X_test = train_test_split(X_scaled, train_size=ratio, random_state=42)\n",
    "    # Jakaa datan (X_scaled) harjoitus- ja testijoukkoon\n",
    "    # train_size määrittää harjoitusjoukon koon suhteessa koko dataan\n",
    "    # random_state varmistaa toistettavan satunnaisjaon\n",
    "    \n",
    "    # Suoritetaan k-means kahdella klusterilla\n",
    "    kmeans = KMeans(n_clusters=2, random_state=42)\n",
    "    # Luodaan KMeans-malli 2 klusterilla\n",
    "    # random_state varmistaa samanlaiset klusterit jokaisella suorituskerralla\n",
    "    kmeans.fit(X_train)\n",
    "    # Sovitetaan malli harjoitusjoukkoon\n",
    "    # Lasketaan klustereiden keskipisteet ja järjestetään datapisteet klustereihin\n",
    "    \n",
    "    \n",
    "    # Tallennetaan tulokset (jakaumasuhde, joukon koko, inertia, silhouette-pisteet)\n",
    "    results.append({\n",
    "        'Split Ratio': ratio,                               # Käytetty jakaumasuhde\n",
    "        'Training Set Size': X_train.shape[0],              # Harjoitusjoukon koko\n",
    "        'Inertia': kmeans.inertia_,                         # Klustereiden sisäinen koheesio\n",
    "        'Silhouette Score': silhouette_score(X_train, kmeans.labels_)       # Klustereiden erottelukyky\n",
    "    })\n",
    "\n",
    "# Tallennetaan jokaisen jakaumasuhteen tulokset results-listaan"
   ]
  },
  {
   "cell_type": "code",
   "execution_count": 46,
   "metadata": {},
   "outputs": [
    {
     "name": "stdout",
     "output_type": "stream",
     "text": [
      "   Split Ratio  Training Set Size      Inertia  Silhouette Score\n",
      "0          0.6                299  1472.234915          0.322227\n",
      "1          0.7                349  1910.750412          0.324529\n",
      "2          0.8                399  2098.770851          0.329633\n",
      "3          0.9                449  2704.884292          0.326883\n"
     ]
    }
   ],
   "source": [
    "# Tulosten näyttäminen\n",
    "results_df = pd.DataFrame(results)\n",
    "print(results_df)"
   ]
  },
  {
   "cell_type": "markdown",
   "metadata": {},
   "source": [
    "Tulokset näyttävät k-means-klusteroinnin ominaisuuksista eri harjoitusjoukon koissa:\n",
    "\n",
    "Split Ratio (Jakaumasuhde):\n",
    "Tämä kertoo, kuinka suuri osa datasta käytetään \"oppimiseen\" (harjoitusjoukko) ja kuinka paljon jätetään testaukseen.\n",
    "\n",
    "0.6 tarkoittaa, että 60 % datasta annetaan \"koneen opiskeltavaksi\" ja loput 40 % testataan.\n",
    "\n",
    "\n",
    "Training Set Size (Harjoitusjoukon koko):\n",
    "Tämä on niiden \"oppimiseen\" käytettyjen datapisteiden määrä.\n",
    "Esimerkki:\n",
    "Jos harjoitusjoukon koko on 299, kone opettelee 299 datapisteellä.\n",
    "Jos koko on 449, se opettelee suuremmalla määrällä datapisteitä.\n",
    "\n",
    "\n",
    "Inertia:\n",
    "Tämä mittaa, kuinka tiiviisti datapisteet ovat ryhmittyneet omiin \"ryhmiinsä\" (klustereihin).\n",
    "Esimerkki:\n",
    "Pieni inertia-arvo (1472) tarkoittaa, että pisteet ovat suhteellisen lähellä toisiaan klustereissaan, mikä on hyvä.\n",
    "Suuri arvo (2704) tarkoittaa, että klustereissa on enemmän hajontaa (pisteet ovat kauempana toisistaan), mikä voi olla huonompi.\n",
    "\n",
    "Silhouette Score:\n",
    "Tämä kertoo, kuinka hyvin klusterit on erotettu toisistaan.\n",
    "Esimerkki:\n",
    "Jos arvo on lähellä 1, klusterit ovat selvästi erillisiä.\n",
    "Jos arvo on 0, klusterit sekoittuvat toisiinsa.\n",
    "Tässä tapauksessa arvo on noin 0.3, mikä tarkoittaa, että klusterit ovat erottuneet toisistaan kohtuullisesti, mutta ei täydellisesti.\n",
    "\n",
    "\n",
    "\n",
    "Tulkinta: Harjoitusjoukon koon kasvaessa inertia kasvaa, mutta klustereiden laatu (Silhouette Score) pysyy melko vakaana. Toisin sanoen mitä enemmän dataa käytetään harjoitteluun, sitä enemmän on muutoksia klusteroinnissa (tosin klusterointi muuttuvat vain vähän). Klustereiden laatu säilyy melko vakiona. Algoritmille ei ole merkitystä käytetäänkö 60% vai 90% datasta."
   ]
  }
 ],
 "metadata": {
  "kernelspec": {
   "display_name": "Python 3",
   "language": "python",
   "name": "python3"
  },
  "language_info": {
   "codemirror_mode": {
    "name": "ipython",
    "version": 3
   },
   "file_extension": ".py",
   "mimetype": "text/x-python",
   "name": "python",
   "nbconvert_exporter": "python",
   "pygments_lexer": "ipython3",
   "version": "3.12.7"
  }
 },
 "nbformat": 4,
 "nbformat_minor": 2
}
