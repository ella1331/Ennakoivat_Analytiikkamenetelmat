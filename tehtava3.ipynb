{
 "cells": [
  {
   "cell_type": "code",
   "execution_count": null,
   "metadata": {},
   "outputs": [],
   "source": [
    "# Kirjastot\n",
    "\n",
    "import pandas as pd\n",
    "from sklearn.feature_extraction.text import TfidfVectorizer\n",
    "from sklearn.cluster import KMeans\n",
    "import matplotlib.pyplot as plt\n",
    "from collections import Counter\n",
    "import re"
   ]
  },
  {
   "cell_type": "code",
   "execution_count": null,
   "metadata": {},
   "outputs": [],
   "source": [
    "# Datan lataaminen ja tarkastaminen\n",
    "df = pd.read_csv('muokattu_twitter_dataset.csv')\n",
    "\n",
    "df.head()"
   ]
  },
  {
   "cell_type": "code",
   "execution_count": null,
   "metadata": {},
   "outputs": [],
   "source": [
    "# Valitaan tekstidata (Comments-sarake)\n",
    "comments = df['Comment']\n",
    "\n",
    "# Muunnetaan tekstidata numeeriseksi TF-IDF-vektorisoinnilla\n",
    "vectorizer = TfidfVectorizer(stop_words='english', max_features=500)\n",
    "X = vectorizer.fit_transform(comments)"
   ]
  },
  {
   "cell_type": "code",
   "execution_count": null,
   "metadata": {},
   "outputs": [],
   "source": [
    "# Määritetään klusterien määrä (esimerkiksi 3: positiivinen, neutraali, negatiivinen)\n",
    "k = 3\n",
    "\n",
    "# K-means-algoritmin soveltaminen\n",
    "kmeans = KMeans(n_clusters=k, random_state=42)\n",
    "kmeans.fit(X)\n",
    "\n",
    "# Lisätään klusteritieto dataan\n",
    "df['Cluster'] = kmeans.labels_\n",
    "\n",
    "# Näytetään muutamia rivejä klusteritiedolla\n",
    "df[['Comment', 'Cluster']].head()\n",
    "\n"
   ]
  },
  {
   "cell_type": "code",
   "execution_count": null,
   "metadata": {},
   "outputs": [],
   "source": [
    "# Tarkastellaan, kuinka monta viestiä kuuluu kuhunkin klusteriin\n",
    "print(df.groupby('Cluster').size())\n",
    "\n",
    "# Katsotaan esimerkkiviestejä jokaisesta klusterista\n",
    "for cluster in range(k):\n",
    "    print(f\"\\nCluster {cluster}:\")\n",
    "    print(df[df['Cluster'] == cluster]['Comment'].head(5).tolist())\n"
   ]
  },
  {
   "cell_type": "code",
   "execution_count": null,
   "metadata": {},
   "outputs": [],
   "source": [
    "# Klustereiden tulkinta esimerkkiviestien perusteella\n",
    "cluster_names = {\n",
    "    0: \"Negatiivinen\",\n",
    "    1: \"Neutraali\",\n",
    "    2: \"Positiivinen\"\n",
    "}\n",
    "\n",
    "# Lisätään klusterin nimi dataan\n",
    "df['Cluster_Label'] = df['Cluster'].map(cluster_names)\n",
    "\n",
    "# Näytetään data klusterinimen kanssa\n",
    "df[['Comment', 'Cluster', 'Cluster_Label']].head()\n"
   ]
  },
  {
   "cell_type": "code",
   "execution_count": null,
   "metadata": {},
   "outputs": [],
   "source": [
    "# Visualisoidaan klusterien jakauma\n",
    "cluster_counts = df['Cluster_Label'].value_counts()\n",
    "\n",
    "plt.figure(figsize=(8, 5))\n",
    "cluster_counts.plot(kind='bar', color=['red', 'gray', 'green'])\n",
    "plt.title(\"Viestejä klustereittain\")\n",
    "plt.xlabel(\"Klusteri\")\n",
    "plt.ylabel(\"Viestimäärä\")\n",
    "plt.xticks(rotation=0)\n",
    "plt.show()\n"
   ]
  },
  {
   "cell_type": "markdown",
   "metadata": {},
   "source": [
    "2 käyttötapaus Viestien tulkinta"
   ]
  },
  {
   "cell_type": "code",
   "execution_count": 109,
   "metadata": {},
   "outputs": [
    {
     "data": {
      "text/html": [
       "<div>\n",
       "<style scoped>\n",
       "    .dataframe tbody tr th:only-of-type {\n",
       "        vertical-align: middle;\n",
       "    }\n",
       "\n",
       "    .dataframe tbody tr th {\n",
       "        vertical-align: top;\n",
       "    }\n",
       "\n",
       "    .dataframe thead th {\n",
       "        text-align: right;\n",
       "    }\n",
       "</style>\n",
       "<table border=\"1\" class=\"dataframe\">\n",
       "  <thead>\n",
       "    <tr style=\"text-align: right;\">\n",
       "      <th></th>\n",
       "      <th>Comment</th>\n",
       "      <th>Length</th>\n",
       "      <th>Word_Count</th>\n",
       "      <th>Avg_Word_Length</th>\n",
       "      <th>Exclamation_Count</th>\n",
       "      <th>Dot_Count</th>\n",
       "      <th>Word_Repetition</th>\n",
       "      <th>Sentence_Count</th>\n",
       "      <th>Sentence_Repetition</th>\n",
       "    </tr>\n",
       "  </thead>\n",
       "  <tbody>\n",
       "    <tr>\n",
       "      <th>2</th>\n",
       "      <td>my whole body feels itchy and like its on fire</td>\n",
       "      <td>47</td>\n",
       "      <td>10</td>\n",
       "      <td>4.700000</td>\n",
       "      <td>0</td>\n",
       "      <td>0</td>\n",
       "      <td>0</td>\n",
       "      <td>0</td>\n",
       "      <td>0</td>\n",
       "    </tr>\n",
       "    <tr>\n",
       "      <th>4</th>\n",
       "      <td>@Kwesidei not the whole crew</td>\n",
       "      <td>29</td>\n",
       "      <td>5</td>\n",
       "      <td>5.800000</td>\n",
       "      <td>0</td>\n",
       "      <td>0</td>\n",
       "      <td>0</td>\n",
       "      <td>0</td>\n",
       "      <td>0</td>\n",
       "    </tr>\n",
       "    <tr>\n",
       "      <th>5</th>\n",
       "      <td>Need a hug</td>\n",
       "      <td>11</td>\n",
       "      <td>3</td>\n",
       "      <td>3.666667</td>\n",
       "      <td>0</td>\n",
       "      <td>0</td>\n",
       "      <td>0</td>\n",
       "      <td>0</td>\n",
       "      <td>0</td>\n",
       "    </tr>\n",
       "    <tr>\n",
       "      <th>7</th>\n",
       "      <td>@Tatiana_K nope they didn't have it</td>\n",
       "      <td>36</td>\n",
       "      <td>6</td>\n",
       "      <td>6.000000</td>\n",
       "      <td>0</td>\n",
       "      <td>0</td>\n",
       "      <td>0</td>\n",
       "      <td>0</td>\n",
       "      <td>0</td>\n",
       "    </tr>\n",
       "    <tr>\n",
       "      <th>8</th>\n",
       "      <td>@twittera que me muera ?</td>\n",
       "      <td>25</td>\n",
       "      <td>5</td>\n",
       "      <td>5.000000</td>\n",
       "      <td>0</td>\n",
       "      <td>0</td>\n",
       "      <td>0</td>\n",
       "      <td>1</td>\n",
       "      <td>0</td>\n",
       "    </tr>\n",
       "  </tbody>\n",
       "</table>\n",
       "</div>"
      ],
      "text/plain": [
       "                                           Comment  Length  Word_Count  \\\n",
       "2  my whole body feels itchy and like its on fire       47          10   \n",
       "4                    @Kwesidei not the whole crew       29           5   \n",
       "5                                      Need a hug       11           3   \n",
       "7             @Tatiana_K nope they didn't have it       36           6   \n",
       "8                        @twittera que me muera ?       25           5   \n",
       "\n",
       "   Avg_Word_Length  Exclamation_Count  Dot_Count  Word_Repetition  \\\n",
       "2         4.700000                  0          0                0   \n",
       "4         5.800000                  0          0                0   \n",
       "5         3.666667                  0          0                0   \n",
       "7         6.000000                  0          0                0   \n",
       "8         5.000000                  0          0                0   \n",
       "\n",
       "   Sentence_Count  Sentence_Repetition  \n",
       "2               0                    0  \n",
       "4               0                    0  \n",
       "5               0                    0  \n",
       "7               0                    0  \n",
       "8               1                    0  "
      ]
     },
     "execution_count": 109,
     "metadata": {},
     "output_type": "execute_result"
    }
   ],
   "source": [
    "# Lasketaan tekstin ominaisuuksia jokaiselle viestille\n",
    "df['Length'] = df['Comment'].apply(len)  # Merkkien määrä\n",
    "df['Word_Count'] = df['Comment'].apply(lambda x: len(x.split()))  # Sanojen määrä\n",
    "df['Avg_Word_Length'] = df['Length'] / df['Word_Count']  # Keskimääräinen sanan pituus\n",
    "df['Exclamation_Count'] = df['Comment'].str.count(r'!')  # Huutomerkkejä\n",
    "df['Dot_Count'] = df['Comment'].str.count(r'\\.')  # Pisteitä\n",
    "\n",
    "# Lasketaan toistuvat sanat\n",
    "from collections import Counter\n",
    "def word_repetition(comment):\n",
    "    words = comment.lower().split()\n",
    "    word_counts = Counter(words)\n",
    "    return sum(count - 1 for count in word_counts.values() if count > 1)\n",
    "\n",
    "df['Word_Repetition'] = df['Comment'].apply(word_repetition)\n",
    "\n",
    "# Lasketaan lauseiden määrä (pisteet, huutomerkki, kysymysmerkki)\n",
    "def sentence_count(comment):\n",
    "    return len(re.findall(r'[.!?]', comment))\n",
    "\n",
    "df['Sentence_Count'] = df['Comment'].apply(sentence_count)\n",
    "\n",
    "# Lasketaan lauserakenteiden toistuvuus\n",
    "def sentence_repetition(comment):\n",
    "    sentences = [s.strip() for s in re.split(r'[.!?]', comment.lower()) if s.strip()]\n",
    "    sentence_counts = Counter(sentences)\n",
    "    return sum(count - 1 for count in sentence_counts.values() if count > 1)\n",
    "\n",
    "df['Sentence_Repetition'] = df['Comment'].apply(sentence_repetition)\n",
    "\n",
    "# Poistetaan sekaryhmä (klusteri 2)\n",
    "df = df[df['Cluster_Bot'] != 2]\n",
    "\n",
    "# Näytetään muutama rivi datasta uusilla ominaisuuksilla\n",
    "df[['Comment', 'Length', 'Word_Count', 'Avg_Word_Length', 'Exclamation_Count', 'Dot_Count', 'Word_Repetition', 'Sentence_Count', 'Sentence_Repetition']].head()\n",
    "\n"
   ]
  },
  {
   "cell_type": "code",
   "execution_count": 110,
   "metadata": {},
   "outputs": [
    {
     "name": "stdout",
     "output_type": "stream",
     "text": [
      "Cluster_Bot\n",
      "0    152\n",
      "1     93\n",
      "2     47\n",
      "Name: count, dtype: int64\n"
     ]
    }
   ],
   "source": [
    "# Poistetaan sekaryhmä (klusteri 2) ennen klusterointia\n",
    "df = df[df['Cluster_Bot'] != 2]\n",
    "\n",
    "# Ominaisuudet k-means-klusterointiin\n",
    "features = ['Length', 'Word_Count', 'Avg_Word_Length', 'Exclamation_Count', 'Dot_Count', 'Word_Repetition', 'Sentence_Count', 'Sentence_Repetition']\n",
    "\n",
    "# Normaaliarvoistus (tärkeää k-meansille)\n",
    "scaler = StandardScaler()\n",
    "X_scaled = scaler.fit_transform(df[features])\n",
    "\n",
    "# K-means-algoritmi (aluksi testataan 3 klusteria, mutta voidaan optimoida)\n",
    "kmeans = KMeans(n_clusters=3, random_state=42)\n",
    "df['Cluster_Bot'] = kmeans.fit_predict(X_scaled)\n",
    "\n",
    "# Klusterien jakauma\n",
    "print(df['Cluster_Bot'].value_counts())\n"
   ]
  },
  {
   "cell_type": "code",
   "execution_count": 111,
   "metadata": {},
   "outputs": [
    {
     "name": "stdout",
     "output_type": "stream",
     "text": [
      "\n",
      "Cluster 0 (Esimerkkiviestit):\n",
      "['my whole body feels itchy and like its on fire ', '@Kwesidei not the whole crew ', 'Need a hug ', \"@Tatiana_K nope they didn't have it \", '@twittera que me muera ? ']\n",
      "\n",
      "Cluster 1 (Esimerkkiviestit):\n",
      "['@octolinz16 It it counts, idk why I did either. you never talk to me anymore ', \"Hollis' death scene will hurt me severely to watch on film  wry is directors cut not out now?\", '@LettyA ahh ive always wanted to see rent  love the soundtrack!!', '@FakerPattyPattz Oh dear. Were you drinking out of the forgotten table drinks? ', \"@alydesigns i was out most of the day so didn't get much done \"]\n"
     ]
    }
   ],
   "source": [
    "# Esimerkkiviestit klustereista\n",
    "for cluster in range(2):  # Kolme klusteria\n",
    "    print(f\"\\nCluster {cluster} (Esimerkkiviestit):\")\n",
    "    print(df[df['Cluster_Bot'] == cluster]['Comment'].head(5).tolist())\n"
   ]
  },
  {
   "cell_type": "code",
   "execution_count": 112,
   "metadata": {},
   "outputs": [
    {
     "name": "stdout",
     "output_type": "stream",
     "text": [
      "\n",
      "Analyysi - Cluster 0 (Ihmisten viestit):\n",
      "Klusterin koko: 152 viestiä\n",
      "Keskiarvot ominaisuuksista: \n",
      "Length               35.967105\n",
      "Word_Count            6.434211\n",
      "Avg_Word_Length       5.847381\n",
      "Exclamation_Count     0.203947\n",
      "Dot_Count             0.302632\n",
      "dtype: float64\n",
      "\n",
      "Esimerkkiviestit (Ihmisten viestit):\n",
      "Esimerkki 1: my whole body feels itchy and like its on fire \n",
      "Esimerkki 2: @Kwesidei not the whole crew \n",
      "Esimerkki 3: Need a hug \n",
      "Esimerkki 4: @Tatiana_K nope they didn't have it \n",
      "Esimerkki 5: @twittera que me muera ? \n",
      "\n",
      "Analyysi - Cluster 1 (Bottiviestit):\n",
      "Klusterin koko: 93 viestiä\n",
      "Keskiarvot ominaisuuksista: \n",
      "Length               74.698925\n",
      "Word_Count           13.494624\n",
      "Avg_Word_Length       5.552802\n",
      "Exclamation_Count     0.376344\n",
      "Dot_Count             0.516129\n",
      "dtype: float64\n",
      "\n",
      "Esimerkkiviestit (Bottiviestit):\n",
      "Esimerkki 1: @octolinz16 It it counts, idk why I did either. you never talk to me anymore \n",
      "Esimerkki 2: Hollis' death scene will hurt me severely to watch on film  wry is directors cut not out now?\n",
      "Esimerkki 3: @LettyA ahh ive always wanted to see rent  love the soundtrack!!\n",
      "Esimerkki 4: @FakerPattyPattz Oh dear. Were you drinking out of the forgotten table drinks? \n",
      "Esimerkki 5: @alydesigns i was out most of the day so didn't get much done \n"
     ]
    }
   ],
   "source": [
    "# Klusterien tulkinta\n",
    "cluster_names_bot = {\n",
    "    0: \"Ihmisten viestit\",\n",
    "    1: \"Bottiviestit\"\n",
    "}\n",
    "\n",
    "# Lisätään klusterinimi dataan\n",
    "df['Cluster_Bot_Label'] = df['Cluster_Bot'].map(cluster_names_bot)\n",
    "\n",
    "# Näytetään data klusterinimen kanssa\n",
    "df[['Comment', 'Cluster_Bot', 'Cluster_Bot_Label']].head()\n",
    "\n",
    "# Klusterikohtainen analyysi ja tyypillisten piirteiden tarkastelu\n",
    "for cluster in range(2):\n",
    "    print(f\"\\nAnalyysi - Cluster {cluster} ({cluster_names_bot[cluster]}):\")\n",
    "    cluster_data = df[df['Cluster_Bot'] == cluster]\n",
    "    \n",
    "    # Klusterin koko\n",
    "    print(f\"Klusterin koko: {cluster_data.shape[0]} viestiä\")\n",
    "    \n",
    "    # Keskiarvot klusterin ominaisuuksista\n",
    "    avg_features = cluster_data[['Length', 'Word_Count', 'Avg_Word_Length', 'Exclamation_Count', 'Dot_Count']].mean()\n",
    "    print(f\"Keskiarvot ominaisuuksista: \\n{avg_features}\")\n",
    "    \n",
    "    # Esimerkkiviestit\n",
    "    print(f\"\\nEsimerkkiviestit ({cluster_names_bot[cluster]}):\")\n",
    "    example_comments = cluster_data['Comment'].head(5).tolist()\n",
    "    for idx, comment in enumerate(example_comments):\n",
    "        print(f\"Esimerkki {idx+1}: {comment}\")\n"
   ]
  },
  {
   "cell_type": "code",
   "execution_count": 113,
   "metadata": {},
   "outputs": [
    {
     "data": {
      "image/png": "[encoded data removed]",
      "text/plain": [
       "<Figure size 800x500 with 1 Axes>"
      ]
     },
     "metadata": {},
     "output_type": "display_data"
    }
   ],
   "source": [
    "# Klusterien jakauman visualisointi\n",
    "bot_counts = df['Cluster_Bot_Label'].value_counts()\n",
    "\n",
    "# Visualisoidaan klusterien jakauma\n",
    "plt.figure(figsize=(8, 5))\n",
    "\n",
    "# Värit vain kahdelle klusterille\n",
    "bot_counts.plot(kind='bar', color=['blue', 'orange'])  # Poistettu sekaryhmä\n",
    "\n",
    "plt.title(\"Bottiviestien jaottelu\", fontsize=14)\n",
    "plt.xlabel(\"Klusteri\", fontsize=12)\n",
    "plt.ylabel(\"Viestien määrä\", fontsize=12)\n",
    "\n",
    "# Akselin nimet ja värit\n",
    "plt.xticks(rotation=0, fontsize=11)\n",
    "plt.yticks(fontsize=11)\n",
    "\n",
    "# Parannetaan ulkoasua\n",
    "plt.tight_layout()\n",
    "plt.show()\n",
    "\n",
    "\n"
   ]
  }
 ],
 "metadata": {
  "kernelspec": {
   "display_name": "Python 3",
   "language": "python",
   "name": "python3"
  },
  "language_info": {
   "codemirror_mode": {
    "name": "ipython",
    "version": 3
   },
   "file_extension": ".py",
   "mimetype": "text/x-python",
   "name": "python",
   "nbconvert_exporter": "python",
   "pygments_lexer": "ipython3",
   "version": "3.12.0"
  }
 },
 "nbformat": 4,
 "nbformat_minor": 2
}
